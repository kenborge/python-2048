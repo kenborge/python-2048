{
 "cells": [
  {
   "cell_type": "code",
   "execution_count": 1,
   "metadata": {
    "collapsed": false
   },
   "outputs": [
    {
     "name": "stdout",
     "output_type": "stream",
     "text": [
      "Score: 0\n",
      "[[0 0 0 0]\n",
      " [2 0 0 0]\n",
      " [0 0 0 0]\n",
      " [0 0 0 2]]\n"
     ]
    }
   ],
   "source": [
    "import numpy as np\n",
    "import random as random\n",
    "from enum import Enum\n",
    "import ipywidgets as widgets\n",
    "import IPython.display as display\n",
    "\n",
    "class Game:\n",
    "    Input = Enum('Input', 'up down left right')\n",
    "    \n",
    "    def __init__(self, startPos=None):\n",
    "        if startPos is not None:\n",
    "            self.board = np.array(startPos)\n",
    "        else:\n",
    "            self.board = np.zeros(16, dtype=np.int16).reshape(4,4)\n",
    "            for i in range(2):\n",
    "                self.spawn_new_tile()\n",
    "        self.score = 0\n",
    "        self.game_over = False\n",
    "\n",
    "    def run(self):\n",
    "        btn_left = widgets.Button(description='Left')\n",
    "        btn_up = widgets.Button(description='Up')\n",
    "        btn_right = widgets.Button(description='Right')\n",
    "        btn_down = widgets.Button(description='Down')\n",
    "        \n",
    "        def click(btn):\n",
    "            action = None;\n",
    "            if btn is btn_left:\n",
    "                action = Game.Input.left\n",
    "            elif btn is btn_right:\n",
    "                action = Game.Input.right\n",
    "            elif btn is btn_up:\n",
    "                action = Game.Input.up\n",
    "            elif btn is btn_down:\n",
    "                action = Game.Input.down\n",
    "            self.tick(action)\n",
    "            \n",
    "        \n",
    "        btn_left.on_click(click)\n",
    "        btn_up.on_click(click)\n",
    "        btn_down.on_click(click)\n",
    "        btn_right.on_click(click)\n",
    "        display.display(widgets.HBox([btn_left, btn_up, btn_right, btn_down]))\n",
    "\n",
    "    def find_open_tile(self): \n",
    "        open_tiles = np.argwhere(self.board == 0)\n",
    "        return random.choice(open_tiles)\n",
    "    \n",
    "    def spawn_new_tile(self):\n",
    "        index = self.find_open_tile()\n",
    "        self.board[index[0]][index[1]] = 2 if random.random() < 0.9 else 4\n",
    "        \n",
    "    def reward(self, points):\n",
    "        self.score += points\n",
    "    \n",
    "    def checkGameOver(self):\n",
    "        if not np.any(self.board == 0):\n",
    "            currentBoard = np.copy(self.board)\n",
    "            for direction in self.Input:\n",
    "                simulatedBoard = np.copy(self.board)\n",
    "                self.slide(simulatedBoard, direction)\n",
    "                if not np.array_equal(currentBoard, simulatedBoard):\n",
    "                    return False\n",
    "            return True\n",
    "        else:\n",
    "            return False\n",
    "    \n",
    "    def moveTiles(self, transformedBoard):\n",
    "        def find_first_none_zero(array, start):\n",
    "            if start is not None:\n",
    "                for x in range(start, len(array)):\n",
    "                    if array[x] > 0:\n",
    "                        return (x, array[x]);\n",
    "        \n",
    "        score = 0\n",
    "        for row in transformedBoard:\n",
    "            for i in range(len(row)):\n",
    "                first_non_zero = find_first_none_zero(row, i)\n",
    "                second_non_zero = find_first_none_zero(row, first_non_zero[0] + 1 if first_non_zero is not None else None)\n",
    "                if first_non_zero is not None and first_non_zero[0] != i:\n",
    "                    row[i] = first_non_zero[1]\n",
    "                    row[first_non_zero[0]] = 0\n",
    "                if second_non_zero is not None and first_non_zero[1] == second_non_zero[1]:\n",
    "                    row[i] = first_non_zero[1] + second_non_zero[1]\n",
    "                    row[second_non_zero[0]] = 0\n",
    "                    score += row[i]\n",
    "        return score\n",
    "    \n",
    "    def slide(self, board, input):\n",
    "        if input == Game.Input.up:\n",
    "            return self.moveTiles(board.T)\n",
    "        elif input == Game.Input.down:\n",
    "            return self.moveTiles(np.fliplr(board.T))\n",
    "        elif input == Game.Input.left:\n",
    "            return self.moveTiles(board)\n",
    "        elif input == Game.Input.right:\n",
    "            return self.moveTiles(np.fliplr(board))\n",
    "\n",
    "    def tick(self, input):\n",
    "        if not isinstance(input, Game.Input):\n",
    "            raise Exception('Illegal input value')\n",
    "        \n",
    "        oldBoard = np.copy(self.board)\n",
    "        score = self.slide(self.board, input)\n",
    "        if not np.array_equal(oldBoard, self.board):\n",
    "            self.reward(score)\n",
    "            self.spawn_new_tile()\n",
    "            self.game_over = self.checkGameOver()\n",
    "        \n",
    "        display.clear_output()\n",
    "        self.render()\n",
    "            \n",
    "                \n",
    "    \n",
    "    def render(self):\n",
    "        print('Score: %d%s' % (self.score, ', GAME OVER!' if self.game_over else ''))\n",
    "        print(self.board)\n",
    "        \n",
    "#game_instance = Game([(2,2,8,16),(8,2,32,128), (2,4,8,16), (128,248,2,8)])\n",
    "game_instance = Game()\n",
    "game_instance.render()\n",
    "game_instance.run()\n",
    "\n"
   ]
  }
 ],
 "metadata": {
  "kernelspec": {
   "display_name": "Python 3",
   "language": "python",
   "name": "python3"
  },
  "language_info": {
   "codemirror_mode": {
    "name": "ipython",
    "version": 3
   },
   "file_extension": ".py",
   "mimetype": "text/x-python",
   "name": "python",
   "nbconvert_exporter": "python",
   "pygments_lexer": "ipython3",
   "version": "3.5.2"
  },
  "widgets": {
   "state": {
    "08da20e6bee9460fbc1afa275b2a78b7": {
     "views": []
    },
    "1c9b37e17b384b1c909224ee699c2bb1": {
     "views": []
    },
    "2da9f194d83a406989bd31bd5205362b": {
     "views": []
    },
    "681edf7555914f02ac2ccf1df827ae77": {
     "views": []
    },
    "7ba3e66f449e400b9caa55e5986e3c60": {
     "views": []
    },
    "942e5a28026b4b6ca08c49a97d416da5": {
     "views": []
    },
    "97ba66a5ecd847feaba13bb371886bc8": {
     "views": []
    },
    "c4afd1d4ece24adca768b4b322b73f5d": {
     "views": []
    },
    "c4dab761edcf447f83ecfa4f279de06c": {
     "views": [
      {
       "cell_index": 0
      }
     ]
    },
    "fb2a063c57c5422ca94ea09eff21cbef": {
     "views": []
    }
   },
   "version": "1.1.2"
  }
 },
 "nbformat": 4,
 "nbformat_minor": 0
}
